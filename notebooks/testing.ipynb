{
 "cells": [
  {
   "cell_type": "code",
   "execution_count": 1,
   "id": "a6be35d7",
   "metadata": {},
   "outputs": [],
   "source": [
    "from langgraph.graph import StateGraph, START, END\n",
    "from typing import TypedDict, Annotated\n",
    "from langchain_core.messages import BaseMessage , HumanMessage\n",
    "from langchain_google_genai import ChatGoogleGenerativeAI\n",
    "from langgraph.checkpoint.sqlite import SqliteSaver\n",
    "from langgraph.graph.message import add_messages\n",
    "from dotenv import load_dotenv\n",
    "import sqlite3\n",
    "import uuid\n",
    "\n",
    "load_dotenv()\n",
    "google = ChatGoogleGenerativeAI(model=\"gemini-1.5-flash\", temperature=0)\n",
    "\n",
    "# Create State\n",
    "class ChatState(TypedDict):\n",
    "    messages: Annotated[list[BaseMessage], add_messages]\n",
    "    \n",
    "\n",
    "def chat_node(state: ChatState):\n",
    "    messages = state['messages']\n",
    "    response = google.invoke(messages)\n",
    "    return {\"messages\": [response]}"
   ]
  },
  {
   "cell_type": "code",
   "execution_count": 2,
   "id": "66ac2657",
   "metadata": {},
   "outputs": [],
   "source": [
    "def generate_thread_id():\n",
    "    thread_id = uuid.uuid4()\n",
    "    return thread_id"
   ]
  },
  {
   "cell_type": "code",
   "execution_count": 3,
   "id": "eb947df5",
   "metadata": {},
   "outputs": [],
   "source": [
    "# adding database\n",
    "conn = sqlite3.connect(database='testing.db' , check_same_thread=False)\n",
    "checkpointer = SqliteSaver(conn=conn)"
   ]
  },
  {
   "cell_type": "code",
   "execution_count": 4,
   "id": "0176a914",
   "metadata": {},
   "outputs": [],
   "source": [
    "\n",
    "graph = StateGraph(ChatState)\n",
    "graph.add_node(\"chat_node\", chat_node)\n",
    "graph.add_edge(START, \"chat_node\")\n",
    "graph.add_edge(\"chat_node\", END)\n",
    "chatbot = graph.compile(checkpointer=checkpointer)"
   ]
  },
  {
   "cell_type": "code",
   "execution_count": 5,
   "id": "256302c7",
   "metadata": {},
   "outputs": [],
   "source": [
    "\n",
    "CONFIG = {'configurable': {'thread_id':\"newthread\"}}\n"
   ]
  },
  {
   "cell_type": "code",
   "execution_count": 6,
   "id": "b9e92a8a",
   "metadata": {},
   "outputs": [
    {
     "data": {
      "text/plain": [
       "[HumanMessage(content='Why is my Name', additional_kwargs={}, response_metadata={}, id='1a639b1d-374a-47f0-b869-a43c21ffa68a'),\n",
       " AIMessage(content=\"Your name is what your parents or guardians chose to give you.  There's no single reason why they chose that specific name; it could be for any number of reasons, including:\\n\\n* **Family tradition:**  The name might be a family name passed down through generations.\\n* **Meaning and significance:**  They might have liked the meaning or symbolism of the name.\\n* **Sound and style:** They might have simply liked the sound or style of the name.\\n* **Personal connection:** The name might remind them of someone they admire or love.\\n* **Cultural influences:**  The name might be common or significant within their cultural background.\\n* **Popularity:**  It might have been a popular name at the time of your birth.\\n\\nTo know *why* your parents chose your name, you'd need to ask them.\", additional_kwargs={}, response_metadata={'prompt_feedback': {'block_reason': 0, 'safety_ratings': []}, 'finish_reason': 'STOP', 'model_name': 'gemini-1.5-flash', 'safety_ratings': []}, id='run--208876ae-12c5-4e09-ac23-1ec6b0d5911e-0', usage_metadata={'input_tokens': 4, 'output_tokens': 175, 'total_tokens': 179, 'input_token_details': {'cache_read': 0}}),\n",
       " HumanMessage(content='What is my Name', additional_kwargs={}, response_metadata={}, id='0641a036-4793-46b9-b0e4-5dc0bc98c5cc'),\n",
       " AIMessage(content='I do not know your name.  I have no access to personal information about you unless you explicitly provide it to me.', additional_kwargs={}, response_metadata={'prompt_feedback': {'block_reason': 0, 'safety_ratings': []}, 'finish_reason': 'STOP', 'model_name': 'gemini-1.5-flash', 'safety_ratings': []}, id='run--20175cb8-7ef7-438d-b826-b1cbeae897e5-0', usage_metadata={'input_tokens': 182, 'output_tokens': 26, 'total_tokens': 208, 'input_token_details': {'cache_read': 0}}),\n",
       " HumanMessage(content='my name is pranay', additional_kwargs={}, response_metadata={}, id='0664166c-84e2-49ac-a27b-90cfaeacc0cf'),\n",
       " AIMessage(content=\"It's nice to meet you, Pranay!\", additional_kwargs={}, response_metadata={'prompt_feedback': {'block_reason': 0, 'safety_ratings': []}, 'finish_reason': 'STOP', 'model_name': 'gemini-1.5-flash', 'safety_ratings': []}, id='run--3c58a8ca-32d4-4e05-9d47-f68902f04c2a-0', usage_metadata={'input_tokens': 212, 'output_tokens': 12, 'total_tokens': 224, 'input_token_details': {'cache_read': 0}}),\n",
       " HumanMessage(content='my name is pranay', additional_kwargs={}, response_metadata={}, id='849269e3-2329-4d98-9ad1-66c41137799d'),\n",
       " AIMessage(content='Nice to meet you again, Pranay!  Is there anything I can help you with today?', additional_kwargs={}, response_metadata={'prompt_feedback': {'block_reason': 0, 'safety_ratings': []}, 'finish_reason': 'STOP', 'model_name': 'gemini-1.5-flash', 'safety_ratings': []}, id='run--eac899f9-e28c-49f0-bd98-05400b9eac60-0', usage_metadata={'input_tokens': 228, 'output_tokens': 21, 'total_tokens': 249, 'input_token_details': {'cache_read': 0}}),\n",
       " HumanMessage(content='what is my name', additional_kwargs={}, response_metadata={}, id='c338cca0-cbfd-4017-8044-c47c3a21406c'),\n",
       " AIMessage(content='You told me your name is Pranay.', additional_kwargs={}, response_metadata={'prompt_feedback': {'block_reason': 0, 'safety_ratings': []}, 'finish_reason': 'STOP', 'model_name': 'gemini-1.5-flash', 'safety_ratings': []}, id='run--2cb23b24-f2e0-4945-a209-edd38103e03b-0', usage_metadata={'input_tokens': 252, 'output_tokens': 10, 'total_tokens': 262, 'input_token_details': {'cache_read': 0}}),\n",
       " HumanMessage(content='thatnks for the help', additional_kwargs={}, response_metadata={}, id='5706b0fc-8cac-4eb9-9180-5f62e86dd1ea'),\n",
       " AIMessage(content=\"You're welcome, Pranay!  Is there anything else I can assist you with?\", additional_kwargs={}, response_metadata={'prompt_feedback': {'block_reason': 0, 'safety_ratings': []}, 'finish_reason': 'STOP', 'model_name': 'gemini-1.5-flash', 'safety_ratings': []}, id='run--7678d278-f76d-4c51-9b21-8410681ebe3b-0', usage_metadata={'input_tokens': 267, 'output_tokens': 20, 'total_tokens': 287, 'input_token_details': {'cache_read': 0}}),\n",
       " HumanMessage(content='thatnks for the help', additional_kwargs={}, response_metadata={}, id='5180753a-76cc-47f8-83cf-10ded9642e94'),\n",
       " AIMessage(content=\"You're very welcome, Pranay!  Have a great day.\", additional_kwargs={}, response_metadata={'prompt_feedback': {'block_reason': 0, 'safety_ratings': []}, 'finish_reason': 'STOP', 'model_name': 'gemini-1.5-flash', 'safety_ratings': []}, id='run--79527715-bdc4-4eb5-a02a-e8919ab41241-0', usage_metadata={'input_tokens': 292, 'output_tokens': 16, 'total_tokens': 308, 'input_token_details': {'cache_read': 0}})]"
      ]
     },
     "execution_count": 6,
     "metadata": {},
     "output_type": "execute_result"
    }
   ],
   "source": [
    "result = chatbot.invoke(\n",
    "                {'messages': [HumanMessage(content=\"thatnks for the help\")]},\n",
    "                config=CONFIG,\n",
    ")\n",
    "result['messages']\n"
   ]
  },
  {
   "cell_type": "code",
   "execution_count": 7,
   "id": "a82afd28",
   "metadata": {},
   "outputs": [
    {
     "name": "stdout",
     "output_type": "stream",
     "text": [
      "newthread\n"
     ]
    }
   ],
   "source": [
    "for x in checkpointer.list(None):\n",
    "    print(x.config['configurable']['thread_id']) \n",
    "    break"
   ]
  },
  {
   "cell_type": "code",
   "execution_count": 11,
   "id": "ff2aae21",
   "metadata": {},
   "outputs": [],
   "source": [
    "messages = chatbot.get_state(config={'configurable': {'thread_id': 'newthread'}}).values['messages']"
   ]
  },
  {
   "cell_type": "code",
   "execution_count": null,
   "id": "f12ec203",
   "metadata": {},
   "outputs": [
    {
     "name": "stdout",
     "output_type": "stream",
     "text": [
      "content='Why is my Name' additional_kwargs={} response_metadata={} id='1a639b1d-374a-47f0-b869-a43c21ffa68a'\n",
      "content=\"Your name is what your parents or guardians chose to give you.  There's no single reason why they chose that specific name; it could be for any number of reasons, including:\\n\\n* **Family tradition:**  The name might be a family name passed down through generations.\\n* **Meaning and significance:**  They might have liked the meaning or symbolism of the name.\\n* **Sound and style:** They might have simply liked the sound or style of the name.\\n* **Personal connection:** The name might remind them of someone they admire or love.\\n* **Cultural influences:**  The name might be common or significant within their cultural background.\\n* **Popularity:**  It might have been a popular name at the time of your birth.\\n\\nTo know *why* your parents chose your name, you'd need to ask them.\" additional_kwargs={} response_metadata={'prompt_feedback': {'block_reason': 0, 'safety_ratings': []}, 'finish_reason': 'STOP', 'model_name': 'gemini-1.5-flash', 'safety_ratings': []} id='run--208876ae-12c5-4e09-ac23-1ec6b0d5911e-0' usage_metadata={'input_tokens': 4, 'output_tokens': 175, 'total_tokens': 179, 'input_token_details': {'cache_read': 0}}\n",
      "content='What is my Name' additional_kwargs={} response_metadata={} id='0641a036-4793-46b9-b0e4-5dc0bc98c5cc'\n",
      "content='I do not know your name.  I have no access to personal information about you unless you explicitly provide it to me.' additional_kwargs={} response_metadata={'prompt_feedback': {'block_reason': 0, 'safety_ratings': []}, 'finish_reason': 'STOP', 'model_name': 'gemini-1.5-flash', 'safety_ratings': []} id='run--20175cb8-7ef7-438d-b826-b1cbeae897e5-0' usage_metadata={'input_tokens': 182, 'output_tokens': 26, 'total_tokens': 208, 'input_token_details': {'cache_read': 0}}\n",
      "content='my name is pranay' additional_kwargs={} response_metadata={} id='0664166c-84e2-49ac-a27b-90cfaeacc0cf'\n",
      "content=\"It's nice to meet you, Pranay!\" additional_kwargs={} response_metadata={'prompt_feedback': {'block_reason': 0, 'safety_ratings': []}, 'finish_reason': 'STOP', 'model_name': 'gemini-1.5-flash', 'safety_ratings': []} id='run--3c58a8ca-32d4-4e05-9d47-f68902f04c2a-0' usage_metadata={'input_tokens': 212, 'output_tokens': 12, 'total_tokens': 224, 'input_token_details': {'cache_read': 0}}\n",
      "content='my name is pranay' additional_kwargs={} response_metadata={} id='849269e3-2329-4d98-9ad1-66c41137799d'\n",
      "content='Nice to meet you again, Pranay!  Is there anything I can help you with today?' additional_kwargs={} response_metadata={'prompt_feedback': {'block_reason': 0, 'safety_ratings': []}, 'finish_reason': 'STOP', 'model_name': 'gemini-1.5-flash', 'safety_ratings': []} id='run--eac899f9-e28c-49f0-bd98-05400b9eac60-0' usage_metadata={'input_tokens': 228, 'output_tokens': 21, 'total_tokens': 249, 'input_token_details': {'cache_read': 0}}\n",
      "content='what is my name' additional_kwargs={} response_metadata={} id='c338cca0-cbfd-4017-8044-c47c3a21406c'\n",
      "content='You told me your name is Pranay.' additional_kwargs={} response_metadata={'prompt_feedback': {'block_reason': 0, 'safety_ratings': []}, 'finish_reason': 'STOP', 'model_name': 'gemini-1.5-flash', 'safety_ratings': []} id='run--2cb23b24-f2e0-4945-a209-edd38103e03b-0' usage_metadata={'input_tokens': 252, 'output_tokens': 10, 'total_tokens': 262, 'input_token_details': {'cache_read': 0}}\n",
      "content='thatnks for the help' additional_kwargs={} response_metadata={} id='5706b0fc-8cac-4eb9-9180-5f62e86dd1ea'\n",
      "content=\"You're welcome, Pranay!  Is there anything else I can assist you with?\" additional_kwargs={} response_metadata={'prompt_feedback': {'block_reason': 0, 'safety_ratings': []}, 'finish_reason': 'STOP', 'model_name': 'gemini-1.5-flash', 'safety_ratings': []} id='run--7678d278-f76d-4c51-9b21-8410681ebe3b-0' usage_metadata={'input_tokens': 267, 'output_tokens': 20, 'total_tokens': 287, 'input_token_details': {'cache_read': 0}}\n",
      "content='thatnks for the help' additional_kwargs={} response_metadata={} id='5180753a-76cc-47f8-83cf-10ded9642e94'\n",
      "content=\"You're very welcome, Pranay!  Have a great day.\" additional_kwargs={} response_metadata={'prompt_feedback': {'block_reason': 0, 'safety_ratings': []}, 'finish_reason': 'STOP', 'model_name': 'gemini-1.5-flash', 'safety_ratings': []} id='run--79527715-bdc4-4eb5-a02a-e8919ab41241-0' usage_metadata={'input_tokens': 292, 'output_tokens': 16, 'total_tokens': 308, 'input_token_details': {'cache_read': 0}}\n"
     ]
    }
   ],
   "source": [
    "for msg in messages:\n",
    "    print(msg.content)"
   ]
  },
  {
   "cell_type": "code",
   "execution_count": 23,
   "id": "d43a048e",
   "metadata": {},
   "outputs": [
    {
     "name": "stdout",
     "output_type": "stream",
     "text": [
      "user :  Why is my Name\n",
      "bot :  Your name is what your parents or guardians chose to give you.  There's no single reason why they chose that specific name; it could be for any number of reasons, including:\n",
      "\n",
      "* **Family tradition:**  The name might be a family name passed down through generations.\n",
      "* **Meaning and significance:**  They might have liked the meaning or symbolism of the name.\n",
      "* **Sound and style:** They might have simply liked the sound or style of the name.\n",
      "* **Personal connection:** The name might remind them of someone they admire or love.\n",
      "* **Cultural influences:**  The name might be common or significant within their cultural background.\n",
      "* **Popularity:**  It might have been a popular name at the time of your birth.\n",
      "\n",
      "To know *why* your parents chose your name, you'd need to ask them.\n",
      "user :  What is my Name\n",
      "bot :  I do not know your name.  I have no access to personal information about you unless you explicitly provide it to me.\n",
      "user :  my name is pranay\n",
      "bot :  It's nice to meet you, Pranay!\n",
      "user :  my name is pranay\n",
      "bot :  Nice to meet you again, Pranay!  Is there anything I can help you with today?\n",
      "user :  what is my name\n",
      "bot :  You told me your name is Pranay.\n",
      "user :  thatnks for the help\n",
      "bot :  You're welcome, Pranay!  Is there anything else I can assist you with?\n",
      "user :  thatnks for the help\n",
      "bot :  You're very welcome, Pranay!  Have a great day.\n"
     ]
    }
   ],
   "source": [
    "for msg in messages:\n",
    "    if isinstance(msg, HumanMessage):\n",
    "        print(\"user : \" , msg.content)\n",
    "    else:\n",
    "        print(\"bot : \" , msg.content)"
   ]
  }
 ],
 "metadata": {
  "kernelspec": {
   "display_name": "venv",
   "language": "python",
   "name": "python3"
  },
  "language_info": {
   "codemirror_mode": {
    "name": "ipython",
    "version": 3
   },
   "file_extension": ".py",
   "mimetype": "text/x-python",
   "name": "python",
   "nbconvert_exporter": "python",
   "pygments_lexer": "ipython3",
   "version": "3.11.9"
  }
 },
 "nbformat": 4,
 "nbformat_minor": 5
}
