{
 "cells": [
  {
   "cell_type": "code",
   "execution_count": 4,
   "id": "a6be35d7",
   "metadata": {},
   "outputs": [
    {
     "data": {
      "text/plain": [
       "True"
      ]
     },
     "execution_count": 4,
     "metadata": {},
     "output_type": "execute_result"
    }
   ],
   "source": [
    "from langgraph.graph import StateGraph , START  , END\n",
    "from langchain_google_genai import ChatGoogleGenerativeAI\n",
    "from typing import TypedDict\n",
    "from dotenv  import load_dotenv\n",
    "\n",
    "load_dotenv()"
   ]
  },
  {
   "cell_type": "code",
   "execution_count": 5,
   "id": "2611681b",
   "metadata": {},
   "outputs": [],
   "source": [
    "model = ChatGoogleGenerativeAI(model=\"gemini-1.5-flash\", temperature=0)\n",
    "\n",
    "# Create State\n",
    "\n",
    "class LLMState(TypedDict):\n",
    "    question : str\n",
    "    answer : str\n",
    "    "
   ]
  },
  {
   "cell_type": "code",
   "execution_count": 7,
   "id": "960c0bf7",
   "metadata": {},
   "outputs": [],
   "source": [
    "def qna(state = LLMState) -> LLMState:\n",
    "    question = state['question']\n",
    "    prompt = f\"answer the following question in one Word: {question}\"    \n",
    "    answer = model.invoke(prompt).content\n",
    "    state['answer'] = answer\n",
    "    return state"
   ]
  },
  {
   "cell_type": "code",
   "execution_count": 8,
   "id": "0176a914",
   "metadata": {},
   "outputs": [],
   "source": [
    "# Define the state graph\n",
    "graph = StateGraph(LLMState)\n",
    "graph.add_node('qna' ,qna)\n",
    "\n",
    "graph.add_edge(START, 'qna')\n",
    "graph.add_edge('qna', END)\n",
    "\n",
    "workflow = graph.compile()"
   ]
  },
  {
   "cell_type": "code",
   "execution_count": null,
   "id": "b9e92a8a",
   "metadata": {},
   "outputs": [
    {
     "name": "stdout",
     "output_type": "stream",
     "text": [
      "{'question': 'what is the capital of France?', 'answer': 'Paris'}\n"
     ]
    }
   ],
   "source": [
    "initial_state = {'question' : 'what is the capital of France?'}\n",
    "result = workflow.invoke(initial_state)\n",
    "print(result)"
   ]
  }
 ],
 "metadata": {
  "kernelspec": {
   "display_name": "venv",
   "language": "python",
   "name": "python3"
  },
  "language_info": {
   "codemirror_mode": {
    "name": "ipython",
    "version": 3
   },
   "file_extension": ".py",
   "mimetype": "text/x-python",
   "name": "python",
   "nbconvert_exporter": "python",
   "pygments_lexer": "ipython3",
   "version": "3.11.9"
  }
 },
 "nbformat": 4,
 "nbformat_minor": 5
}
