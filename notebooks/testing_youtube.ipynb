{
 "cells": [
  {
   "cell_type": "code",
   "execution_count": 15,
   "id": "8d4222f3",
   "metadata": {},
   "outputs": [],
   "source": [
    "from youtube_transcript_api import YouTubeTranscriptApi, TranscriptsDisabled\n",
    "import re\n"
   ]
  },
  {
   "cell_type": "code",
   "execution_count": null,
   "id": "e47a0a17",
   "metadata": {},
   "outputs": [
    {
     "data": {
      "text/plain": [
       "\"hello and welcome to one minute book review my name is Owen and today I'll be reviewing atomic habit by James clear now we all want to build better habits and in this book James Clare talks about systematic steps that we can take in order to build better habits the author builds upon the book the power of habit by Charles Duhigg and gives us practical tools such as the two-minute rule and habit stacking to give us the necessary things that we need to build better habit what I liked about this book was the practical element of it a lot of these books that talk about habits just talk about theory but this book gives us actionable steps that we can use to actually improve our habits in practice this book is incredibly valuable for anyone wanting to understand how to implement better habits into their life and also for people who are trying to get rid of negative ones if you're new to habit formation I think this is a great book for you to try and understand the key principles that go behind creating better habits this has been warm in a book review thanks for watching\""
      ]
     },
     "execution_count": 30,
     "metadata": {},
     "output_type": "execute_result"
    }
   ],
   "source": [
    "from youtube_transcript_api import YouTubeTranscriptApi\n",
    "from youtube_transcript_api.formatters import TextFormatter\n",
    "\n",
    "ytt_api = YouTubeTranscriptApi()\n",
    "captions = ytt_api.fetch(\"yGWJo6a4g4w\").snippets\n",
    "\n",
    "# Assuming `snippets` is your list of FetchedTranscriptSnippet objects\n",
    "full_text = \" \".join([item.text for item in captions])\n",
    "full_text"
   ]
  },
  {
   "cell_type": "code",
   "execution_count": 88,
   "id": "3aecc0dc",
   "metadata": {},
   "outputs": [
    {
     "name": "stdout",
     "output_type": "stream",
     "text": [
      "hello and welcome to one minute book (0.0) review my name is Owen and today I'll be (1.23) reviewing atomic habit by James clear (3.06) now we all want to build better habits (5.43) and in this book James Clare talks about (7.14) systematic steps that we can take in (9.36) order to build better habits the author (12.059) builds upon the book the power of habit (14.04) by Charles Duhigg and gives us practical (15.63) tools such as the two-minute rule and (17.97) habit stacking to give us the necessary (19.98) things that we need to build better (22.199) habit what I liked about this book was (24.18) the practical element of it a lot of (25.859) these books that talk about habits just (27.599) talk about theory but this book gives us (29.369) actionable steps that we can use to (31.65) actually improve our habits in practice (33.899) this book is incredibly valuable for (35.88) anyone wanting to understand how to (37.89) implement better habits into their life (39.989) and also for people who are trying to (41.85) get rid of negative ones if you're new (44.1) to habit formation I think this is a (46.11) great book for you to try and understand (47.789) the key principles that go behind (49.89) creating better habits this has been (51.77) warm in a book review thanks for (54.69) watching (56.129)\n"
     ]
    }
   ],
   "source": [
    "data = []\n",
    "\n",
    "for item in captions:\n",
    "    sentence = item.text\n",
    "    start_time = item.start\n",
    "    # combine sentence and start_time into one string and add it to data\n",
    "    data.append(f\"{sentence} ({start_time})\")\n",
    "\n",
    "# join the entire list into a single string\n",
    "youtube_captions = \" \".join(data)\n",
    "print(youtube_captions)\n"
   ]
  },
  {
   "cell_type": "code",
   "execution_count": 131,
   "id": "8cb06e73",
   "metadata": {},
   "outputs": [],
   "source": [
    "# ---------- Imports ----------\n",
    "from langgraph.graph import StateGraph, START, END\n",
    "from langchain_google_genai import ChatGoogleGenerativeAI\n",
    "from langgraph.checkpoint.sqlite import SqliteSaver\n",
    "from langgraph.graph.message import add_messages\n",
    "from typing import TypedDict, Annotated\n",
    "from langchain_core.messages import BaseMessage , HumanMessage ,AIMessage\n",
    "from dotenv import load_dotenv\n",
    "load_dotenv()\n",
    "from langgraph.checkpoint.memory import InMemorySaver\n",
    "# ---------- LLM Configuration ----------\n",
    "google = ChatGoogleGenerativeAI(model=\"gemini-1.5-flash\", temperature=0)\n",
    "\n",
    "# ---------- Define Chat State ----------\n",
    "class ChatState(TypedDict):\n",
    "    messages: Annotated[list[BaseMessage], add_messages]\n",
    "\n",
    "# ---------- Define Chat Node ----------\n",
    "def chat_node(state: ChatState):\n",
    "    messages = state[\"messages\"]\n",
    "    response = google.invoke(messages)\n",
    "    return {\"messages\": [response]}\n",
    "\n",
    "# ---------- Checkpointer ----------\n",
    "checkpointer =InMemorySaver()   # (you can change path if needed)\n",
    "\n",
    "# ---------- Build Graph ----------\n",
    "graph = StateGraph(ChatState)\n",
    "graph.add_node(\"chat_node\", chat_node)\n",
    "graph.add_edge(START, \"chat_node\")\n",
    "graph.add_edge(\"chat_node\", END)\n",
    "\n",
    "# ---------- Compile chatbot ----------\n",
    "chatbot = graph.compile(checkpointer=checkpointer)\n",
    "CONFIG = {'configurable': {'thread_id':\"newthread\"}}"
   ]
  },
  {
   "cell_type": "code",
   "execution_count": 132,
   "id": "94cf26a3",
   "metadata": {},
   "outputs": [],
   "source": [
    "output_dict = {\n",
    "    \"human\": [],\n",
    "    \"ai\": []\n",
    "}\n"
   ]
  },
  {
   "cell_type": "code",
   "execution_count": 138,
   "id": "acb70b83",
   "metadata": {},
   "outputs": [],
   "source": [
    "user_input = input(\"Enter your message: \")\n",
    "if output_dict['human'] == []:\n",
    "    user_input = f\"\"\"You are a helpful assistant.\n",
    "        Answer ONLY from the provided transcript context.\n",
    "        If the context is insufficient, just say you don't know.\n",
    "        {youtube_captions}  Question: {user_input}\"\"\" \n"
   ]
  },
  {
   "cell_type": "code",
   "execution_count": 139,
   "id": "174b58bc",
   "metadata": {},
   "outputs": [
    {
     "name": "stdout",
     "output_type": "stream",
     "text": [
      "thanks for the information\n",
      "Owen reviews Atomic Habits by James Clear, highlighting its practical tools like the two-minute rule and habit stacking for building better habits.\n",
      "You're welcome! Is there anything else I can help you with?\n"
     ]
    }
   ],
   "source": [
    "result = chatbot.invoke(\n",
    "                {'messages': [HumanMessage(content=user_input)]},\n",
    "                config=CONFIG,\n",
    ")\n",
    "print(user_input)\n",
    "for msg in result['messages']:\n",
    "    if isinstance(msg, AIMessage):\n",
    "            print(msg.content)"
   ]
  },
  {
   "cell_type": "code",
   "execution_count": 140,
   "id": "4b5cef38",
   "metadata": {},
   "outputs": [],
   "source": [
    "from langchain_core.messages import HumanMessage, AIMessage\n",
    "\n",
    "messages_list = result['messages']\n",
    "\n",
    "for msg in messages_list:\n",
    "    if isinstance(msg, HumanMessage):\n",
    "        output_dict['human'].append(msg.content)\n",
    "    elif isinstance(msg, AIMessage):\n",
    "        output_dict['ai'].append(msg.content)\n"
   ]
  },
  {
   "cell_type": "code",
   "execution_count": 141,
   "id": "9cc3c76f",
   "metadata": {},
   "outputs": [
    {
     "data": {
      "text/plain": [
       "{'human': [\"You are a helpful assistant.\\n        Answer ONLY from the provided transcript context.\\n        If the context is insufficient, just say you don't know.\\n        hello and welcome to one minute book (0.0) review my name is Owen and today I'll be (1.23) reviewing atomic habit by James clear (3.06) now we all want to build better habits (5.43) and in this book James Clare talks about (7.14) systematic steps that we can take in (9.36) order to build better habits the author (12.059) builds upon the book the power of habit (14.04) by Charles Duhigg and gives us practical (15.63) tools such as the two-minute rule and (17.97) habit stacking to give us the necessary (19.98) things that we need to build better (22.199) habit what I liked about this book was (24.18) the practical element of it a lot of (25.859) these books that talk about habits just (27.599) talk about theory but this book gives us (29.369) actionable steps that we can use to (31.65) actually improve our habits in practice (33.899) this book is incredibly valuable for (35.88) anyone wanting to understand how to (37.89) implement better habits into their life (39.989) and also for people who are trying to (41.85) get rid of negative ones if you're new (44.1) to habit formation I think this is a (46.11) great book for you to try and understand (47.789) the key principles that go behind (49.89) creating better habits this has been (51.77) warm in a book review thanks for (54.69) watching (56.129)  Question: what is said in this video answer in single line\",\n",
       "  \"You are a helpful assistant.\\n        Answer ONLY from the provided transcript context.\\n        If the context is insufficient, just say you don't know.\\n        hello and welcome to one minute book (0.0) review my name is Owen and today I'll be (1.23) reviewing atomic habit by James clear (3.06) now we all want to build better habits (5.43) and in this book James Clare talks about (7.14) systematic steps that we can take in (9.36) order to build better habits the author (12.059) builds upon the book the power of habit (14.04) by Charles Duhigg and gives us practical (15.63) tools such as the two-minute rule and (17.97) habit stacking to give us the necessary (19.98) things that we need to build better (22.199) habit what I liked about this book was (24.18) the practical element of it a lot of (25.859) these books that talk about habits just (27.599) talk about theory but this book gives us (29.369) actionable steps that we can use to (31.65) actually improve our habits in practice (33.899) this book is incredibly valuable for (35.88) anyone wanting to understand how to (37.89) implement better habits into their life (39.989) and also for people who are trying to (41.85) get rid of negative ones if you're new (44.1) to habit formation I think this is a (46.11) great book for you to try and understand (47.789) the key principles that go behind (49.89) creating better habits this has been (51.77) warm in a book review thanks for (54.69) watching (56.129)  Question: what is said in this video answer in single line\",\n",
       "  'thanks for the information'],\n",
       " 'ai': ['Owen reviews Atomic Habits by James Clear, highlighting its practical tools like the two-minute rule and habit stacking for building better habits.',\n",
       "  'Owen reviews Atomic Habits by James Clear, highlighting its practical tools like the two-minute rule and habit stacking for building better habits.',\n",
       "  \"You're welcome! Is there anything else I can help you with?\"]}"
      ]
     },
     "execution_count": 141,
     "metadata": {},
     "output_type": "execute_result"
    }
   ],
   "source": [
    "output_dict"
   ]
  },
  {
   "cell_type": "code",
   "execution_count": 142,
   "id": "a725381c",
   "metadata": {},
   "outputs": [
    {
     "data": {
      "text/plain": [
       "['Owen reviews Atomic Habits by James Clear, highlighting its practical tools like the two-minute rule and habit stacking for building better habits.',\n",
       " 'Owen reviews Atomic Habits by James Clear, highlighting its practical tools like the two-minute rule and habit stacking for building better habits.',\n",
       " \"You're welcome! Is there anything else I can help you with?\"]"
      ]
     },
     "execution_count": 142,
     "metadata": {},
     "output_type": "execute_result"
    }
   ],
   "source": [
    "output_dict['ai']"
   ]
  },
  {
   "cell_type": "markdown",
   "id": "9ba6c691",
   "metadata": {},
   "source": [
    "# Whole Code\n"
   ]
  },
  {
   "cell_type": "code",
   "execution_count": null,
   "id": "7566c5db",
   "metadata": {},
   "outputs": [
    {
     "name": "stdout",
     "output_type": "stream",
     "text": [
      "user: should i read this book\n",
      "AI : If you're new to habit formation, this is a great book to try and understand the key principles behind creating better habits (46.11-49.89).  The book gives practical tools and actionable steps to improve habits (15.63-31.65).\n",
      "user: what are the key word that are used in this video , that make me wanna read this book\n",
      "AI : The keywords suggesting the book's value are \"practical,\" \"actionable steps,\" and \"key principles.\"  The phrase \"build better habits\" is also heavily emphasized.\n",
      "user: thanks\n",
      "AI : You're welcome!\n",
      "user: exit\n",
      "Exiting chat.\n"
     ]
    }
   ],
   "source": [
    "# ---------- Imports ----------\n",
    "from langgraph.graph import StateGraph, START, END\n",
    "from langchain_google_genai import ChatGoogleGenerativeAI\n",
    "from langgraph.checkpoint.sqlite import SqliteSaver\n",
    "from langgraph.checkpoint.memory import InMemorySaver\n",
    "from langgraph.graph.message import add_messages\n",
    "from typing import TypedDict, Annotated\n",
    "from langchain_core.messages import BaseMessage, HumanMessage, AIMessage\n",
    "from dotenv import load_dotenv\n",
    "\n",
    "load_dotenv()\n",
    "\n",
    "# ---------- LLM Configuration ----------\n",
    "google = ChatGoogleGenerativeAI(model=\"gemini-1.5-flash\", temperature=0)\n",
    "\n",
    "# ---------- Define Chat State ----------\n",
    "class ChatState(TypedDict):\n",
    "    messages: Annotated[list[BaseMessage], add_messages]\n",
    "\n",
    "# ---------- Define Chat Node ----------\n",
    "def chat_node(state: ChatState):\n",
    "    messages = state[\"messages\"]\n",
    "    response = google.invoke(messages)\n",
    "    return {\"messages\": [response]}\n",
    "\n",
    "# ---------- Checkpointer ----------\n",
    "checkpointer = InMemorySaver()   # Use memory to store messages in RAM\n",
    "\n",
    "# ---------- Build Graph ----------\n",
    "graph = StateGraph(ChatState)\n",
    "graph.add_node(\"chat_node\", chat_node)\n",
    "graph.add_edge(START, \"chat_node\")\n",
    "graph.add_edge(\"chat_node\", END)\n",
    "\n",
    "# ---------- Compile chatbot ----------\n",
    "chatbot = graph.compile(checkpointer=checkpointer)\n",
    "\n",
    "# ---------- Configuration ----------\n",
    "CONFIG = {'configurable': {'thread_id': \"newthread\"}}\n",
    "output_dict = {\n",
    "    \"human\": [],\n",
    "    \"ai\": []\n",
    "}\n",
    "\n",
    "# ---------- Chat Loop ----------\n",
    "while True:\n",
    "    user_input = input(\"Enter your message: \")\n",
    "    print(\"user:\" , user_input)\n",
    "    if user_input.lower() in [\"exit\", \"quit\"]:\n",
    "        print(\"Exiting chat.\")\n",
    "        break\n",
    "    if output_dict['human'] == []:\n",
    "        # First message -> prepend instructions + transcript\n",
    "        user_input = f\"\"\"You are a helpful assistant.\n",
    "    Answer ONLY from the provided transcript context and also the time of that particular sentence in give in () brackets\n",
    "    If the context is insufficient, just say you don't know.\n",
    "    {youtube_captions}\n",
    "    Question: {user_input}\"\"\"\n",
    "\n",
    "    result = chatbot.invoke(\n",
    "        {'messages': [HumanMessage(content=user_input)]},\n",
    "        config=CONFIG,\n",
    "    )\n",
    "\n",
    "    # ---------- Save messages ----------\n",
    "    messages_list = result['messages']\n",
    "\n",
    "    for msg in messages_list:\n",
    "        if isinstance(msg, HumanMessage):\n",
    "            output_dict['human'].append(msg.content) if msg.content not in output_dict['human'] else None\n",
    "        elif isinstance(msg, AIMessage):\n",
    "            output_dict['ai'].append(msg.content) if msg.content not in output_dict['ai'] else None \n",
    "    print(\"AI :\" ,output_dict['ai'][-1])\n"
   ]
  },
  {
   "cell_type": "code",
   "execution_count": null,
   "id": "e8f58f0f",
   "metadata": {},
   "outputs": [
    {
     "data": {
      "text/plain": [
       "[HumanMessage(content=\"You are a helpful assistant.\\n    Answer ONLY from the provided transcript context and also the time of that particular sentence in give in () brackets\\n    If the context is insufficient, just say you don't know.\\n    hello and welcome to one minute book (0.0) review my name is Owen and today I'll be (1.23) reviewing atomic habit by James clear (3.06) now we all want to build better habits (5.43) and in this book James Clare talks about (7.14) systematic steps that we can take in (9.36) order to build better habits the author (12.059) builds upon the book the power of habit (14.04) by Charles Duhigg and gives us practical (15.63) tools such as the two-minute rule and (17.97) habit stacking to give us the necessary (19.98) things that we need to build better (22.199) habit what I liked about this book was (24.18) the practical element of it a lot of (25.859) these books that talk about habits just (27.599) talk about theory but this book gives us (29.369) actionable steps that we can use to (31.65) actually improve our habits in practice (33.899) this book is incredibly valuable for (35.88) anyone wanting to understand how to (37.89) implement better habits into their life (39.989) and also for people who are trying to (41.85) get rid of negative ones if you're new (44.1) to habit formation I think this is a (46.11) great book for you to try and understand (47.789) the key principles that go behind (49.89) creating better habits this has been (51.77) warm in a book review thanks for (54.69) watching (56.129)\\n    Question: anyone wanting to understand how to implement better habits into their life at what time did he say this line\", additional_kwargs={}, response_metadata={}, id='9349c799-e0f3-4b3c-b02c-d618d943f6a0'),\n",
       " AIMessage(content='(35.88)', additional_kwargs={}, response_metadata={'prompt_feedback': {'block_reason': 0, 'safety_ratings': []}, 'finish_reason': 'STOP', 'model_name': 'gemini-1.5-flash', 'safety_ratings': []}, id='run--bf460a0c-7c37-4e73-90a1-abdb5f41d4cb-0', usage_metadata={'input_tokens': 484, 'output_tokens': 8, 'total_tokens': 492, 'input_token_details': {'cache_read': 0}}),\n",
       " HumanMessage(content='at what time did youtube say this anyone wanting to understand how to implement better habits into their life', additional_kwargs={}, response_metadata={}, id='11fac779-ca07-4043-b76a-f7dda656db79'),\n",
       " AIMessage(content=\"The provided transcript is from a book review by Owen, not from YouTube.  Therefore, I don't know when YouTube said that.\", additional_kwargs={}, response_metadata={'prompt_feedback': {'block_reason': 0, 'safety_ratings': []}, 'finish_reason': 'STOP', 'model_name': 'gemini-1.5-flash', 'safety_ratings': []}, id='run--3b4bad20-bd77-45a2-ac79-a3356bb4cacc-0', usage_metadata={'input_tokens': 510, 'output_tokens': 29, 'total_tokens': 539, 'input_token_details': {'cache_read': 0}}),\n",
       " HumanMessage(content='thanks', additional_kwargs={}, response_metadata={}, id='faca6070-6464-43e8-b109-dd94bdff30c0'),\n",
       " AIMessage(content=\"You're welcome!\", additional_kwargs={}, response_metadata={'prompt_feedback': {'block_reason': 0, 'safety_ratings': []}, 'finish_reason': 'STOP', 'model_name': 'gemini-1.5-flash', 'safety_ratings': []}, id='run--cd2cc351-acc9-443e-acdb-5264c1efc1ff-0', usage_metadata={'input_tokens': 539, 'output_tokens': 6, 'total_tokens': 545, 'input_token_details': {'cache_read': 0}})]"
      ]
     },
     "execution_count": 154,
     "metadata": {},
     "output_type": "execute_result"
    }
   ],
   "source": []
  },
  {
   "cell_type": "code",
   "execution_count": null,
   "id": "84406f12",
   "metadata": {},
   "outputs": [],
   "source": [
    "# anyone wanting to understand how to implement better habits into their life"
   ]
  }
 ],
 "metadata": {
  "kernelspec": {
   "display_name": "venv",
   "language": "python",
   "name": "python3"
  },
  "language_info": {
   "codemirror_mode": {
    "name": "ipython",
    "version": 3
   },
   "file_extension": ".py",
   "mimetype": "text/x-python",
   "name": "python",
   "nbconvert_exporter": "python",
   "pygments_lexer": "ipython3",
   "version": "3.11.9"
  }
 },
 "nbformat": 4,
 "nbformat_minor": 5
}
