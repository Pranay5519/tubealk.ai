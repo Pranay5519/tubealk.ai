{
 "cells": [
  {
   "cell_type": "code",
   "execution_count": 12,
   "id": "afef0fe1",
   "metadata": {},
   "outputs": [],
   "source": [
    "from langchain_google_genai import ChatGoogleGenerativeAI\n",
    "from youtube_transcript_api import YouTubeTranscriptApi\n",
    "from langchain.prompts import ChatPromptTemplate, SystemMessagePromptTemplate, HumanMessagePromptTemplate\n",
    "from pydantic import BaseModel, Field\n",
    "import re\n",
    "def load_transcript(url: str) -> str | None:\n",
    "    \"\"\"\n",
    "    Fetch transcript for a YouTube video.\n",
    "    \"\"\"\n",
    "    pattern = r'(?:v=|\\/)([0-9A-Za-z_-]{11})'\n",
    "    match = re.search(pattern, url)\n",
    "    if match:\n",
    "        video_id = match.group(1)\n",
    "        try:\n",
    "            captions = YouTubeTranscriptApi().fetch(video_id,languages=['en','hi']).snippets\n",
    "            data = [f\"{item.text} ({item.start})\" for item in captions]\n",
    "            return \" \".join(data)\n",
    "        except Exception as e:\n",
    "            print(f\"❌ Error fetching transcript: {e}\")\n",
    "            return None"
   ]
  },
  {
   "cell_type": "code",
   "execution_count": 32,
   "id": "e9d9b96d",
   "metadata": {},
   "outputs": [],
   "source": [
    "from langchain.prompts import ChatPromptTemplate, SystemMessagePromptTemplate, HumanMessagePromptTemplate\n",
    "from pydantic import BaseModel, Field\n",
    "from typing import List\n",
    "\n",
    "class Quiz(BaseModel):\n",
    "    question: str = Field(description=\"A well-formed multiple-choice quiz question\")\n",
    "    options: List[str] = Field(description=\"List of 4 possible answer options\")\n",
    "    correct_answer: str = Field(description=\"The correct answer from the options list\")\n",
    "    timestamp : float = Field(description=\"timestamp from where the quesiton was picked from the transcripts\")\n",
    "class QuizList(BaseModel):\n",
    "    quizzes: List[Quiz] = Field(description=\"List of 10 quiz questions with options and answers\")\n",
    "\n",
    "# ---- Prompt Template ----\n",
    "system_template = \"\"\"\n",
    "You are QuizBot, an AI assistant that creates professional quizzes.\n",
    "Your task is to generate exactly 10 multiple-choice questions from the provided YouTube transcript.\n",
    "Each question must:\n",
    "- Be clear, concise, and relevant to the transcript content\n",
    "- Include 4 answer options (A, B, C, D)\n",
    "- Clearly specify the correct answer\n",
    "Format the response strictly as structured data according to the schema provided.\n",
    "Do not include explanations, context, or additional text outside the schema.\n",
    "\"\"\"\n",
    "\n",
    "user_template = \"\"\"\n",
    "Here is the YouTube video transcript:\n",
    "{transcript}\n",
    "\"\"\"\n",
    "\n",
    "quiz_prompt = ChatPromptTemplate.from_messages([\n",
    "    SystemMessagePromptTemplate.from_template(system_template),\n",
    "    HumanMessagePromptTemplate.from_template(user_template),\n",
    "])\n"
   ]
  },
  {
   "cell_type": "code",
   "execution_count": null,
   "id": "3cdd9475",
   "metadata": {},
   "outputs": [],
   "source": [
    "from langchain.output_parsers import PydanticOutputParser\n",
    "captions = load_transcript(url=\"https://www.youtube.com/watch?v=s3KnSb9b4Pk\")\n",
    "model = ChatGoogleGenerativeAI(model = 'gemini-2.5-flash' , temperature=0)\n",
    "structured_llm = model.with_structured_output(QuizList)\n",
    "\n",
    "response = structured_llm.invoke(\n",
    "    quiz_prompt.format_prompt(transcript=captions).to_messages()\n",
    ")"
   ]
  },
  {
   "cell_type": "code",
   "execution_count": null,
   "id": "a061be04",
   "metadata": {},
   "outputs": [
    {
     "data": {
      "text/plain": [
       "__main__.QuizList"
      ]
     },
     "execution_count": 38,
     "metadata": {},
     "output_type": "execute_result"
    }
   ],
   "source": []
  },
  {
   "cell_type": "code",
   "execution_count": 37,
   "id": "77fb7a78",
   "metadata": {},
   "outputs": [
    {
     "name": "stdout",
     "output_type": "stream",
     "text": [
      "What is the primary focus of the video's roadmap for learning AI in 2025?\n",
      "['A) Data analysis', 'B) Web development', 'C) AI, specifically Generative AI and Agentic AI', 'D) Cloud computing']\n",
      "C) AI, specifically Generative AI and Agentic AI\n",
      "25.519\n",
      "----------------------------------------\n",
      "According to the speaker, what percentage of companies are currently working on different kinds of Generative AI applications?\n",
      "['A) Less than 50%', 'B) More than 80%', 'C) Exactly 60%', 'D) Around 20%']\n",
      "B) More than 80%\n",
      "55.92\n",
      "----------------------------------------\n",
      "How many different learning routes are outlined in the AI roadmap presented in the video?\n",
      "['A) One', 'B) Two', 'C) Three', 'D) Four']\n",
      "C) Three\n",
      "135.84\n",
      "----------------------------------------\n",
      "Which route is recommended for freshers or those starting from scratch in AI, even in the current scenario?\n",
      "['A) Modern Route', 'B) Advanced Route', 'C) Traditional Route', 'D) Non-technical Route']\n",
      "C) Traditional Route\n",
      "372.88\n",
      "----------------------------------------\n",
      "What is the first step in the 'Modern Route' for learning AI?\n",
      "['A) Master Data Science', 'B) Learn Generative AI first', 'C) Learn Agentic AI', 'D) Study DS Fundamentals']\n",
      "B) Learn Generative AI first\n",
      "420.24\n",
      "----------------------------------------\n",
      "In the Traditional Route, what are the four core areas to master under 'Data Science' before moving to Generative AI?\n",
      "['A) Python, SQL, Excel, Tableau', 'B) Data Science, Machine Learning, Computer Vision, NLP', 'C) Web Development, Mobile Development, Cloud, DevOps', 'D) Statistics, Linear Algebra, Calculus, Discrete Math']\n",
      "B) Data Science, Machine Learning, Computer Vision, NLP\n",
      "240.159\n",
      "----------------------------------------\n",
      "What is the estimated total time frame to complete the entire AI roadmap if starting from scratch, as mentioned by the speaker?\n",
      "['A) 4 months', 'B) 6 months', 'C) 8 months', 'D) 1 year']\n",
      "C) 8 months\n",
      "105.759\n",
      "----------------------------------------\n",
      "Which of the following is NOT explicitly mentioned as a framework to explore within Generative AI or Agentic AI in the video?\n",
      "['A) LangChain', 'B) LangGraph', 'C) CrewAI', 'D) TensorFlow']\n",
      "D) TensorFlow\n",
      "474.4\n",
      "----------------------------------------\n",
      "For leaders and very experienced professionals, which routes are suggested for learning AI?\n",
      "['A) Only Traditional Route', 'B) Only Modern Route', 'C) Modern Route or Advanced Route', 'D) Only Advanced Route']\n",
      "C) Modern Route or Advanced Route\n",
      "737.36\n",
      "----------------------------------------\n",
      "What is emphasized as a crucial tool for increasing AI productivity and quickly developing modules, rather than coding completely from scratch?\n",
      "['A) Text editors', 'B) Integrated Development Environments (IDEs)', 'C) AI platforms like ChatGPT, Cloud, Google Gemini, Grock', 'D) Version control systems']\n",
      "C) AI platforms like ChatGPT, Cloud, Google Gemini, Grock\n",
      "982.8\n",
      "----------------------------------------\n"
     ]
    }
   ],
   "source": [
    "for x in response.quizzes:\n",
    "    print(x.question)\n",
    "    print(x.options)\n",
    "    print(x.correct_answer)\n",
    "    print(x.timestamp)\n",
    "    print(\"--\"*20)"
   ]
  }
 ],
 "metadata": {
  "kernelspec": {
   "display_name": "venv",
   "language": "python",
   "name": "python3"
  },
  "language_info": {
   "codemirror_mode": {
    "name": "ipython",
    "version": 3
   },
   "file_extension": ".py",
   "mimetype": "text/x-python",
   "name": "python",
   "nbconvert_exporter": "python",
   "pygments_lexer": "ipython3",
   "version": "3.11.9"
  }
 },
 "nbformat": 4,
 "nbformat_minor": 5
}
