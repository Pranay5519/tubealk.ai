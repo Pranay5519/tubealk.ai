{
 "cells": [
  {
   "cell_type": "markdown",
   "id": "1d03b497",
   "metadata": {},
   "source": [
    "# Basic"
   ]
  },
  {
   "cell_type": "code",
   "execution_count": 15,
   "id": "4df787e6",
   "metadata": {},
   "outputs": [],
   "source": [
    "import sys\n",
    "import os\n",
    "from langchain_huggingface import HuggingFaceEmbeddings\n",
    "from langchain_community.vectorstores import FAISS\n",
    "from langchain.text_splitter import RecursiveCharacterTextSplitter\n",
    "from langchain_core.messages import SystemMessage, HumanMessage, AIMessage, BaseMessage\n",
    "from youtube_transcript_api import YouTubeTranscriptApi\n",
    "from langchain_google_genai import ChatGoogleGenerativeAI\n",
    "from langgraph.checkpoint.sqlite import SqliteSaver\n",
    "from langgraph.graph import StateGraph, START, END\n",
    "from langgraph.graph.message import add_messages\n",
    "from pydantic import BaseModel, Field\n",
    "from typing import TypedDict, Annotated\n",
    "import re\n",
    "import sqlite3\n",
    "from dotenv import load_dotenv\n",
    "load_dotenv()\n",
    "from typing import List\n",
    "from langchain_core.messages import BaseMessage"
   ]
  },
  {
   "cell_type": "code",
   "execution_count": 26,
   "id": "a8f3f438",
   "metadata": {},
   "outputs": [
    {
     "name": "stdout",
     "output_type": "stream",
     "text": [
      "Summary:\n",
      " The video discusses the future of coding with AI agents, highlighting how AI tools like GitHub Copilot can significantly improve productivity for experienced coders by automating repetitive tasks and accelerating prototype development.\n"
     ]
    }
   ],
   "source": [
    "# ------------------ Build LLM ------------------\n",
    "model = ChatGoogleGenerativeAI(model=\"gemini-2.5-flash\", temperature=0)\n",
    "\n",
    "# ------------------ Structured Summary Schema ------------------\n",
    "class SummaryModel(BaseModel):\n",
    "    summary: str = Field(description=\"Concise, clear summary of the text provided.\")\n",
    "    timestamps: float = Field(description=\"The time (in seconds) from where the answer was taken\")\n",
    "\n",
    "structured_model = model.with_structured_output(SummaryModel)\n",
    "\n",
    "system_message = SystemMessage(content=\"\"\"\n",
    "You are a video summarizer. Analyze this timestamped transcript and provide:\n",
    "\n",
    "    1. **OVERVIEW**: Brief summary of the video content\n",
    "    2. **KEY POINTS**: Main points with their timestamps (format: \"Point description [timestamp]\")\n",
    "    3. **MAIN TOPICS**: List of topics covered\n",
    "\n",
    "    Transcript:\n",
    "    {transcript}\n",
    "\n",
    "    Format your response clearly with the three sections above.\n",
    "    Always include timestamps in square brackets for each key point.\n",
    "\"\"\")\n",
    "\n",
    "# ------------------ Chat State ------------------\n",
    "class ChatState(TypedDict):\n",
    "    messages: list[BaseMessage]\n",
    "\n",
    "# ------------------ Summarization Node ------------------\n",
    "def summarize_node(state: ChatState, text_to_summarize: str):\n",
    "    messages = [\n",
    "        system_message,\n",
    "        HumanMessage(content=f\"Text to summarize:\\n{text_to_summarize}\")\n",
    "    ]\n",
    "    \n",
    "    response: SummaryModel = structured_model.invoke(messages)\n",
    "    ai_text = response.summary\n",
    "    \n",
    "    return {\n",
    "        \"messages\": [\n",
    "            state[\"messages\"][-1],\n",
    "            AIMessage(content=ai_text)\n",
    "        ]\n",
    "    }\n",
    "\n",
    "# ------------------ Checkpointer ------------------\n",
    "conn = sqlite3.connect(\"summaryDB.db\", check_same_thread=False)\n",
    "checkpointer = SqliteSaver(conn=conn)\n",
    "\n",
    "# ------------------ Build LangGraph ------------------\n",
    "def build_summarization_graph(text_to_summarize: str):\n",
    "    graph = StateGraph(ChatState)\n",
    "    \n",
    "    def _summarize_node(state: ChatState):\n",
    "        return summarize_node(state, text_to_summarize)\n",
    "    \n",
    "    graph.add_node(\"summarize_node\", _summarize_node)\n",
    "    graph.add_edge(START, \"summarize_node\")\n",
    "    graph.add_edge(\"summarize_node\", END)\n",
    "    \n",
    "    chatbot = graph.compile(checkpointer=checkpointer)\n",
    "    return chatbot\n",
    "\n",
    "# ------------------ Load YouTube Transcript ------------------\n",
    "def load_transcript(url: str) -> str | None:\n",
    "    \"\"\"\n",
    "    Fetch transcript for a YouTube video.\n",
    "    \"\"\"\n",
    "    pattern = r'(?:v=|\\/)([0-9A-Za-z_-]{11})'\n",
    "    match = re.search(pattern, url)\n",
    "    if match:\n",
    "        video_id = match.group(1)\n",
    "        try:\n",
    "            captions = YouTubeTranscriptApi().fetch(video_id).snippets\n",
    "            data = [f\"{item.text} ({item.start})\" for item in captions]\n",
    "            return \" \".join(data)\n",
    "        except Exception as e:\n",
    "            print(f\"❌ Error fetching transcript: {e}\")\n",
    "            return None\n",
    "\n",
    "# ------------------ Example Usage ------------------\n",
    "youtube_url = \"https://www.youtube.com/watch?v=5AfJ0N3MvpA\"\n",
    "youtube_captions = load_transcript(youtube_url)\n",
    "\n",
    "import uuid\n",
    "summarizer = build_summarization_graph(youtube_captions)\n",
    "\n",
    "# Create unique thread ID\n",
    "thread_id = str(uuid.uuid4())\n",
    "\n",
    "# Initial state\n",
    "state = {\n",
    "    \"messages\": [HumanMessage(content=\"Summarize this text.\")]\n",
    "}\n",
    "\n",
    "# Configuration for checkpointer\n",
    "config = {\n",
    "    \"configurable\": {\n",
    "        \"thread_id\": thread_id\n",
    "    }\n",
    "}\n",
    "\n",
    "# Invoke summarizer with proper config\n",
    "output = summarizer.invoke(state, config=config)\n",
    "print(\"Summary:\\n\", output[\"messages\"][-1].content)"
   ]
  },
  {
   "cell_type": "code",
   "execution_count": 27,
   "id": "de00cbe7",
   "metadata": {},
   "outputs": [
    {
     "data": {
      "text/plain": [
       "{'messages': [HumanMessage(content='Summarize this text.', additional_kwargs={}, response_metadata={}),\n",
       "  AIMessage(content='The video discusses the future of coding with AI agents, highlighting how AI tools like GitHub Copilot can significantly improve productivity for experienced coders by automating repetitive tasks and accelerating prototype development.', additional_kwargs={}, response_metadata={})]}"
      ]
     },
     "execution_count": 27,
     "metadata": {},
     "output_type": "execute_result"
    }
   ],
   "source": [
    "output"
   ]
  }
 ],
 "metadata": {
  "kernelspec": {
   "display_name": "venv",
   "language": "python",
   "name": "python3"
  },
  "language_info": {
   "codemirror_mode": {
    "name": "ipython",
    "version": 3
   },
   "file_extension": ".py",
   "mimetype": "text/x-python",
   "name": "python",
   "nbconvert_exporter": "python",
   "pygments_lexer": "ipython3",
   "version": "3.11.9"
  }
 },
 "nbformat": 4,
 "nbformat_minor": 5
}
