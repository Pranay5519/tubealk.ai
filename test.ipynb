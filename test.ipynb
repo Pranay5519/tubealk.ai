{
 "cells": [
  {
   "cell_type": "code",
   "execution_count": 9,
   "id": "5a2c00b9",
   "metadata": {},
   "outputs": [],
   "source": [
    "from testing_folder.utility_functions import * \n",
    "def load_embeddings_faiss(thread_id: str):\n",
    "    embeddings = HuggingFaceEmbeddings(model_name='sentence-transformers/all-MiniLM-L6-v2')\n",
    "    save_dir = f\"faiss_indexes/{thread_id}\"\n",
    "\n",
    "    if not os.path.exists(save_dir):\n",
    "        raise ValueError(f\"No FAISS index found for thread_id: {thread_id}\")\n",
    "\n",
    "    vector_store = FAISS.load_local(save_dir, embeddings, allow_dangerous_deserialization=True)\n",
    "    retriever = retriever_docs(vector_store)\n",
    "    return retriever"
   ]
  },
  {
   "cell_type": "code",
   "execution_count": 10,
   "id": "f54884ed",
   "metadata": {},
   "outputs": [
    {
     "data": {
      "text/plain": [
       "[Document(id='f2129db9-0216-4712-956b-746518353e87', metadata={}, page_content='like how things are (3426.96) basically happening over here right now (3429.119) uh what we can do is that see if you (3432.0) know if you have created all these (3434.799) things right till here you have created (3436.16) now the further step is that you to just (3438.4) integrate LLM with the uh with this (3440.48) specific context. Okay. Now for this LLM (3442.96) with this specific context, what you can (3446.48) do is that you can directly take this (3448.079) particular context and give it to the (3450.0) LLM and that is what we are going to see (3451.2) in the next video. But in this (3453.28) particular video, we saw the entire (3454.96) thing the complete rack pipeline from (3457.359) data injection to the vector DB (3459.52) pipeline. Right now you can go ahead and (3461.04) write any kind of queries and definitely (3463.119) with all these information here you can (3466.0) see similarity score is also coming up (3467.599) right distance is also basically coming (3469.839)'),\n",
       " Document(id='e029bb8a-fc10-4843-a9f1-f7ab539513f6', metadata={}, page_content=\"as a mapping a query as a (3342.96) set of this one and this entire thing is (3344.8) basically the context. So from this (3347.2) particular diagram here you can see (3349.76) easily we are able to get the context (3351.44) right and this is nothing but this is (3353.28) your context. Now let's try some more (3355.44) things. Okay I will just go ahead and (3357.52) open some PDF. Okay. Um (3360.16) this is some very new research paper (3364.16) embedding technical report. Okay. Uh (3366.799) we'll search for any topic over here. Uh (3369.44) embedding model training. I'll just go (3372.559) ahead and search for unified multitask (3374.4) learning framework. Okay. because this (3376.64) information also we have put it over (3378.24) there. So here I'll go ahead and create (3379.68) one more this one and I will copy this (3383.119) entire code. Okay, quickly (3385.92) and this is the query that I'm actually (3389.839) going to give that is nothing but (3391.76) unified (3394.319) multi\"),\n",
       " Document(id='a8150a51-3fed-47d4-a144-0a154f41d00e', metadata={}, page_content=\"apply embeddings and from the (377.84) embeddings we finally store that into (379.759) our vector DB. Now inside this vector DB (382.08) all this will be stored in the form of (385.199) vectors like let's say this is my record (387.28) one record two record three record four (389.039) like that right so this is one record (393.6) two record this is my third record then (395.759) fourth record fifth record this you have (397.52) right now from this particular vector DB (399.84) you will definitely be able to apply any (403.68) kind of similarity search similarity (406.479) search now in this specific video what (409.68) we are going to do is that I will be (412.88) using any of this file and I'll create (415.6) this entire pipeline. Okay, I will I'll (418.24) just create this entire pipeline and you (421.039) also need to probably work along with me (424.88) later on. For any other files, I will (427.84) give you an assignment. Okay, I will (430.88) show you with couple of files. Let's\")]"
      ]
     },
     "execution_count": 10,
     "metadata": {},
     "output_type": "execute_result"
    }
   ],
   "source": [
    "retriever = load_embeddings_faiss(\"part 1 krisnaik\")\n",
    "user_question = \"What is this video about\"\n",
    "retrieved_chunks = retriever.get_relevant_documents(user_question)\n",
    "retrieved_chunks"
   ]
  },
  {
   "cell_type": "code",
   "execution_count": 11,
   "id": "ee9a8f1a",
   "metadata": {},
   "outputs": [
    {
     "data": {
      "text/plain": [
       "'like how things are (3426.96) basically happening over here right now (3429.119) uh what we can do is that see if you (3432.0) know if you have created all these (3434.799) things right till here you have created (3436.16) now the further step is that you to just (3438.4) integrate LLM with the uh with this (3440.48) specific context. Okay. Now for this LLM (3442.96) with this specific context, what you can (3446.48) do is that you can directly take this (3448.079) particular context and give it to the (3450.0) LLM and that is what we are going to see (3451.2) in the next video. But in this (3453.28) particular video, we saw the entire (3454.96) thing the complete rack pipeline from (3457.359) data injection to the vector DB (3459.52) pipeline. Right now you can go ahead and (3461.04) write any kind of queries and definitely (3463.119) with all these information here you can (3466.0) see similarity score is also coming up (3467.599) right distance is also basically coming (3469.839)'"
      ]
     },
     "execution_count": 11,
     "metadata": {},
     "output_type": "execute_result"
    }
   ],
   "source": [
    "retrieved_chunks[0].page_content"
   ]
  },
  {
   "cell_type": "code",
   "execution_count": 2,
   "id": "741db6d0",
   "metadata": {},
   "outputs": [
    {
     "name": "stdout",
     "output_type": "stream",
     "text": [
      "✅ Cleared all contents inside: faiss_indexes\n"
     ]
    }
   ],
   "source": [
    "import os\n",
    "import shutil\n",
    "\n",
    "def clear_faiss_indexes(base_dir: str = \"faiss_indexes\"):\n",
    "    \"\"\"\n",
    "    Deletes all files and subfolders inside faiss_indexes,\n",
    "    but keeps the faiss_indexes folder itself.\n",
    "    \"\"\"\n",
    "    if os.path.exists(base_dir):\n",
    "        for item in os.listdir(base_dir):\n",
    "            item_path = os.path.join(base_dir, item)\n",
    "            if os.path.isfile(item_path):\n",
    "                os.remove(item_path)       # delete file\n",
    "            elif os.path.isdir(item_path):\n",
    "                shutil.rmtree(item_path)   # delete folder\n",
    "        print(f\"✅ Cleared all contents inside: {base_dir}\")\n",
    "    else:\n",
    "        print(f\"⚠️ Base folder not found: {base_dir}\")\n",
    "\n",
    "clear_faiss_indexes()"
   ]
  },
  {
   "cell_type": "code",
   "execution_count": 3,
   "id": "50508642",
   "metadata": {},
   "outputs": [
    {
     "name": "stdout",
     "output_type": "stream",
     "text": [
      "✅ Summary: {'title': 'Cloud Code Tutorial: AI-Powered Coding in Your Terminal', 'overview': 'This video provides a comprehensive tutorial on Cloud Code, an AI-powered coding tool.  It covers installation, usage, pricing, and comparisons with GitHub Copilot, demonstrating its capabilities through building a Flask application and a RAG pipeline.', 'key_points': [{'content': 'Introduction to Cloud Code as an AI coding collaborator to improve developer productivity.', 'timestamp': 7.759, 'importance': 'high'}, {'content': 'Comparison with GitHub Copilot is promised for a future video.', 'timestamp': 20.96, 'importance': 'medium'}, {'content': 'Installation and setup of Cloud Code via VS Code extension and command line.', 'timestamp': 92.64, 'importance': 'high'}, {'content': \"Explanation of Cloud Code's pricing tiers: Pro, Max 5x, and Max 20x, with pricing details and recommendations based on usage.\", 'timestamp': 214.879, 'importance': 'medium'}, {'content': \"Demonstration of creating a Flask app for an advanced calculator using Cloud Code's command-line interface, highlighting the step-by-step process and plan creation.\", 'timestamp': 299.759, 'importance': 'high'}, {'content': 'Emphasis on the importance of planning and providing clear instructions for optimal Cloud Code performance.', 'timestamp': 374.96, 'importance': 'high'}, {'content': 'Demonstration of creating a RAG application with data injection, chunking, and vector store integration using Cloud Code.', 'timestamp': 664.8, 'importance': 'high'}, {'content': 'Discussion on the importance of strong coding skills for effective use of AI coding tools like Cloud Code.', 'timestamp': 797.44, 'importance': 'high'}, {'content': 'Announcement of a future video showcasing a complete end-to-end project using Cloud Code.', 'timestamp': 920.399, 'importance': 'medium'}, {'content': 'Promotion of a Generative AI course for leaders.', 'timestamp': 943.6, 'importance': 'low'}], 'main_topics': ['Cloud Code Introduction', 'Cloud Code Installation and Setup', 'Cloud Code Pricing', 'Building a Flask App with Cloud Code', 'Building a RAG Application with Cloud Code', 'Importance of Coding Skills', 'Future Video Announcement', 'Course Promotion'], 'duration_summary': 'The video is approximately 961 seconds long (around 16 minutes). The pacing is generally good, with clear explanations and demonstrations.  Some sections, particularly the coding demonstrations, take a bit longer, but this is understandable given the complexity of the tasks being performed.', 'total_segments': 440, 'video_duration': 961.199}\n",
      "✅ Parsed Output: {'title': 'Cloud Code Tutorial: AI-Powered Coding in Your Terminal', 'overview': 'This video provides a comprehensive tutorial on Cloud Code, an AI-powered coding tool.  It covers installation, usage, pricing, and comparisons with GitHub Copilot, demonstrating its capabilities through building a Flask application and a RAG pipeline.', 'key_points': [{'content': 'Introduction to Cloud Code as an AI coding collaborator to improve developer productivity.', 'timestamp': 7.759, 'importance': 'high'}, {'content': 'Comparison with GitHub Copilot is promised for a future video.', 'timestamp': 20.96, 'importance': 'medium'}, {'content': 'Installation and setup of Cloud Code via VS Code extension and command line.', 'timestamp': 92.64, 'importance': 'high'}, {'content': \"Explanation of Cloud Code's pricing tiers: Pro, Max 5x, and Max 20x, with pricing details and recommendations based on usage.\", 'timestamp': 214.879, 'importance': 'medium'}, {'content': \"Demonstration of creating a Flask app for an advanced calculator using Cloud Code's command-line interface, highlighting the step-by-step process and plan creation.\", 'timestamp': 299.759, 'importance': 'high'}, {'content': 'Emphasis on the importance of planning and providing clear instructions for optimal Cloud Code performance.', 'timestamp': 374.96, 'importance': 'high'}, {'content': 'Demonstration of creating a RAG application with data injection, chunking, and vector store integration using Cloud Code.', 'timestamp': 664.8, 'importance': 'high'}, {'content': 'Discussion on the importance of strong coding skills for effective use of AI coding tools like Cloud Code.', 'timestamp': 797.44, 'importance': 'high'}, {'content': 'Announcement of a future video showcasing a complete end-to-end project using Cloud Code.', 'timestamp': 920.399, 'importance': 'medium'}, {'content': 'Promotion of a Generative AI course for leaders.', 'timestamp': 943.6, 'importance': 'low'}], 'main_topics': ['Cloud Code Introduction', 'Cloud Code Installation and Setup', 'Cloud Code Pricing', 'Building a Flask App with Cloud Code', 'Building a RAG Application with Cloud Code', 'Importance of Coding Skills', 'Future Video Announcement', 'Course Promotion'], 'duration_summary': 'The video is approximately 961 seconds long (around 16 minutes). The pacing is generally good, with clear explanations and demonstrations.  Some sections, particularly the coding demonstrations, take a bit longer, but this is understandable given the complexity of the tasks being performed.'}\n",
      "✅ Model Response: {'content': '```json\\n{\\n  \"title\": \"Cloud Code Tutorial: AI-Powered Coding in Your Terminal\",\\n  \"overview\": \"This video provides a comprehensive tutorial on Cloud Code, an AI-powered coding tool.  It covers installation, usage, pricing, and comparisons with GitHub Copilot, demonstrating its capabilities through building a Flask application and a RAG pipeline.\",\\n  \"key_points\": [\\n    {\\n      \"content\": \"Introduction to Cloud Code as an AI coding collaborator to improve developer productivity.\",\\n      \"timestamp\": 7.759,\\n      \"importance\": \"high\"\\n    },\\n    {\\n      \"content\": \"Comparison with GitHub Copilot is promised for a future video.\",\\n      \"timestamp\": 20.96,\\n      \"importance\": \"medium\"\\n    },\\n    {\\n      \"content\": \"Installation and setup of Cloud Code via VS Code extension and command line.\",\\n      \"timestamp\": 92.64,\\n      \"importance\": \"high\"\\n    },\\n    {\\n      \"content\": \"Explanation of Cloud Code\\'s pricing tiers: Pro, Max 5x, and Max 20x, with pricing details and recommendations based on usage.\",\\n      \"timestamp\": 214.879,\\n      \"importance\": \"medium\"\\n    },\\n    {\\n      \"content\": \"Demonstration of creating a Flask app for an advanced calculator using Cloud Code\\'s command-line interface, highlighting the step-by-step process and plan creation.\",\\n      \"timestamp\": 299.759,\\n      \"importance\": \"high\"\\n    },\\n    {\\n      \"content\": \"Emphasis on the importance of planning and providing clear instructions for optimal Cloud Code performance.\",\\n      \"timestamp\": 374.96,\\n      \"importance\": \"high\"\\n    },\\n    {\\n      \"content\": \"Demonstration of creating a RAG application with data injection, chunking, and vector store integration using Cloud Code.\",\\n      \"timestamp\": 664.8,\\n      \"importance\": \"high\"\\n    },\\n    {\\n      \"content\": \"Discussion on the importance of strong coding skills for effective use of AI coding tools like Cloud Code.\",\\n      \"timestamp\": 797.44,\\n      \"importance\": \"high\"\\n    },\\n    {\\n      \"content\": \"Announcement of a future video showcasing a complete end-to-end project using Cloud Code.\",\\n      \"timestamp\": 920.399,\\n      \"importance\": \"medium\"\\n    },\\n    {\\n      \"content\": \"Promotion of a Generative AI course for leaders.\",\\n      \"timestamp\": 943.6,\\n      \"importance\": \"low\"\\n    }\\n  ],\\n  \"main_topics\": [\\n    \"Cloud Code Introduction\",\\n    \"Cloud Code Installation and Setup\",\\n    \"Cloud Code Pricing\",\\n    \"Building a Flask App with Cloud Code\",\\n    \"Building a RAG Application with Cloud Code\",\\n    \"Importance of Coding Skills\",\\n    \"Future Video Announcement\",\\n    \"Course Promotion\"\\n  ],\\n  \"duration_summary\": \"The video is approximately 961 seconds long (around 16 minutes). The pacing is generally good, with clear explanations and demonstrations.  Some sections, particularly the coding demonstrations, take a bit longer, but this is understandable given the complexity of the tasks being performed.\"\\n}\\n```', 'additional_kwargs': {}, 'response_metadata': {'prompt_feedback': {'block_reason': 0, 'safety_ratings': []}, 'finish_reason': 'STOP', 'model_name': 'gemini-1.5-flash', 'safety_ratings': []}, 'type': 'ai', 'name': None, 'id': 'run--c1979439-271d-43f9-ad7f-acfbe401d8ed-0', 'example': False, 'tool_calls': [], 'invalid_tool_calls': [], 'usage_metadata': {'input_tokens': 8592, 'output_tokens': 747, 'total_tokens': 9339, 'input_token_details': {'cache_read': 0}}}\n"
     ]
    }
   ],
   "source": [
    "import requests\n",
    "\n",
    "# API endpoint\n",
    "url = \"http://127.0.0.1:8000/summarize\"\n",
    "\n",
    "# Request body\n",
    "payload = {\n",
    "    \"input_url\": \"https://www.youtube.com/watch?v=0lL94h1z72A\"  # example URL\n",
    "}\n",
    "\n",
    "# Send POST request\n",
    "response = requests.post(url, json=payload)\n",
    "\n",
    "# Print response\n",
    "if response.status_code == 200:\n",
    "    data = response.json()\n",
    "    print(\"✅ Summary:\", data[\"summary\"])\n",
    "    print(\"✅ Parsed Output:\", data[\"parsed_output\"])\n",
    "    print(\"✅ Model Response:\", data[\"model_response\"])\n",
    "else:\n",
    "    print(\"❌ Error:\", response.status_code, response.text)\n"
   ]
  },
  {
   "cell_type": "code",
   "execution_count": null,
   "id": "ecd388ad",
   "metadata": {},
   "outputs": [
    {
     "data": {
      "text/plain": [
       "{'title': 'Cloud Code Tutorial: AI-Powered Coding in Your Terminal',\n",
       " 'overview': 'This video provides a comprehensive tutorial on Cloud Code, an AI-powered coding tool.  It covers installation, usage, pricing, and comparisons with GitHub Copilot, demonstrating its capabilities through building a Flask application and a RAG pipeline.',\n",
       " 'key_points': [{'content': 'Introduction to Cloud Code as an AI coding collaborator to improve developer productivity.',\n",
       "   'timestamp': 7.759,\n",
       "   'importance': 'high'},\n",
       "  {'content': 'Comparison with GitHub Copilot is promised for a future video.',\n",
       "   'timestamp': 20.96,\n",
       "   'importance': 'medium'},\n",
       "  {'content': 'Installation and setup of Cloud Code via VS Code extension and command line.',\n",
       "   'timestamp': 92.64,\n",
       "   'importance': 'high'},\n",
       "  {'content': \"Explanation of Cloud Code's pricing tiers: Pro, Max 5x, and Max 20x, with pricing details and recommendations based on usage.\",\n",
       "   'timestamp': 214.879,\n",
       "   'importance': 'medium'},\n",
       "  {'content': \"Demonstration of creating a Flask app for an advanced calculator using Cloud Code's command-line interface, highlighting the step-by-step process and plan creation.\",\n",
       "   'timestamp': 299.759,\n",
       "   'importance': 'high'},\n",
       "  {'content': 'Emphasis on the importance of planning and providing clear instructions for optimal Cloud Code performance.',\n",
       "   'timestamp': 374.96,\n",
       "   'importance': 'high'},\n",
       "  {'content': 'Demonstration of creating a RAG application with data injection, chunking, and vector store integration using Cloud Code.',\n",
       "   'timestamp': 664.8,\n",
       "   'importance': 'high'},\n",
       "  {'content': 'Discussion on the importance of strong coding skills for effective use of AI coding tools like Cloud Code.',\n",
       "   'timestamp': 797.44,\n",
       "   'importance': 'high'},\n",
       "  {'content': 'Announcement of a future video showcasing a complete end-to-end project using Cloud Code.',\n",
       "   'timestamp': 920.399,\n",
       "   'importance': 'medium'},\n",
       "  {'content': 'Promotion of a Generative AI course for leaders.',\n",
       "   'timestamp': 943.6,\n",
       "   'importance': 'low'}],\n",
       " 'main_topics': ['Cloud Code Introduction',\n",
       "  'Cloud Code Installation and Setup',\n",
       "  'Cloud Code Pricing',\n",
       "  'Building a Flask App with Cloud Code',\n",
       "  'Building a RAG Application with Cloud Code',\n",
       "  'Importance of Coding Skills',\n",
       "  'Future Video Announcement',\n",
       "  'Course Promotion'],\n",
       " 'duration_summary': 'The video is approximately 961 seconds long (around 16 minutes). The pacing is generally good, with clear explanations and demonstrations.  Some sections, particularly the coding demonstrations, take a bit longer, but this is understandable given the complexity of the tasks being performed.',\n",
       " 'total_segments': 440,\n",
       " 'video_duration': 961.199}"
      ]
     },
     "execution_count": 4,
     "metadata": {},
     "output_type": "execute_result"
    }
   ],
   "source": []
  }
 ],
 "metadata": {
  "kernelspec": {
   "display_name": "venv",
   "language": "python",
   "name": "python3"
  },
  "language_info": {
   "codemirror_mode": {
    "name": "ipython",
    "version": 3
   },
   "file_extension": ".py",
   "mimetype": "text/x-python",
   "name": "python",
   "nbconvert_exporter": "python",
   "pygments_lexer": "ipython3",
   "version": "3.11.9"
  }
 },
 "nbformat": 4,
 "nbformat_minor": 5
}
